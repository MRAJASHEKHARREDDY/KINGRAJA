{
 "cells": [
  {
   "cell_type": "code",
   "execution_count": 2,
   "id": "0bba279a",
   "metadata": {},
   "outputs": [
    {
     "name": "stdout",
     "output_type": "stream",
     "text": [
      "No.of upper case characters:3\n",
      "No.of lower case characters:12\n"
     ]
    }
   ],
   "source": [
    "def upperlower(str):\n",
    "    upper_count = 0\n",
    "    lower_count = 0\n",
    "    for i in str:\n",
    "        if i.isupper():\n",
    "            upper_count += 1\n",
    "        else:\n",
    "            lower_count += 1\n",
    "    print(f'No.of upper case characters:{upper_count}')\n",
    "    print(f'No.of lower case characters:{lower_count}')\n",
    "upperlower('ThequickBrowFox')"
   ]
  },
  {
   "cell_type": "code",
   "execution_count": null,
   "id": "5450c0cb",
   "metadata": {},
   "outputs": [],
   "source": []
  }
 ],
 "metadata": {
  "kernelspec": {
   "display_name": "Python 3",
   "language": "python",
   "name": "python3"
  },
  "language_info": {
   "codemirror_mode": {
    "name": "ipython",
    "version": 3
   },
   "file_extension": ".py",
   "mimetype": "text/x-python",
   "name": "python",
   "nbconvert_exporter": "python",
   "pygments_lexer": "ipython3",
   "version": "3.8.8"
  }
 },
 "nbformat": 4,
 "nbformat_minor": 5
}
