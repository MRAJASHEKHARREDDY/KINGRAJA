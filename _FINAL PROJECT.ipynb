{
 "cells": [
  {
   "cell_type": "code",
   "execution_count": 20,
   "id": "3ed595ff",
   "metadata": {},
   "outputs": [
    {
     "ename": "SyntaxError",
     "evalue": "invalid syntax (<ipython-input-20-e16bc652e455>, line 38)",
     "output_type": "error",
     "traceback": [
      "\u001b[1;36m  File \u001b[1;32m\"<ipython-input-20-e16bc652e455>\"\u001b[1;36m, line \u001b[1;32m38\u001b[0m\n\u001b[1;33m    self.email = input(\"enter your email\")\u001b[0m\n\u001b[1;37m    ^\u001b[0m\n\u001b[1;31mSyntaxError\u001b[0m\u001b[1;31m:\u001b[0m invalid syntax\n"
     ]
    }
   ],
   "source": [
    "class Restaurent:\n",
    "    def __init__(self):\n",
    "        self.food = {}\n",
    "        self.food_id = len(self.food)+1\n",
    "        self.ordered_item = []\n",
    "        self.personal_details = {}\n",
    "# admin functionalities\n",
    "    def food_items(self):\n",
    "        self.name = input(\"Enter the food name:\")\n",
    "        self.quantity = int(input(\"enter the quantity:\"))\n",
    "        self.price = float(input(\"enter the price:\"))\n",
    "        self.stock = int(input(\"enter the stock in kg\"))\n",
    "        self.discount = int(input(\"enter discount value\"))\n",
    "        self.item = {\"name\":self.name,\"quantity\":self.quantity,\"price\":self.price,\"discount\":self.discount}\n",
    "        self.food_id = len(self.food)+1\n",
    "        self.food[self.food_id] = self.item\n",
    "        print(\"item added successfully \\n\",self.food)\n",
    "    def remove_items(self):\n",
    "        print(\"surely you want to delete the item\")\n",
    "        del self.food[int(input(\"enter the food id you want to delete:\"))]\n",
    "        print(\"item is deleted successfully\")\n",
    "        print(\"remaining food items are\",self.food)\n",
    "    def edit_food_items(self):\n",
    "        f_id = int(input(\"enter the food id you want to update:\"))\n",
    "        for i in self.food[f_id]:\n",
    "            self.food[f_id] = input(\"enter the\"+i+ \"you want to update:\")\n",
    "        print(\"food item is updated successfully\\n\",self.food)\n",
    "    def all_food_items(self):\n",
    "        print(\"list of all food items are:\")\n",
    "        for i in self.food:\n",
    "            print(\"food id :\",i,\"\\n\")\n",
    "            for j in self.food[i]:\n",
    "                print(j,\":\",self.food[i][j])\n",
    "# user functionality\n",
    "    def register(self):\n",
    "        self.Fullname = input(\"enter your name:\")\n",
    "        self.phone_number = int(input(\"enter your phone number:\")\n",
    "        self.email = input(\"enter your email\")\n",
    "        self.address = input(\"enter your address:\")\n",
    "        self.password = input(\"enter your password:\")\n",
    "        self.register = {\"Fullname\":self.Fullname,\"phone number\":self.phone_number,\"email\":self.email,\"address\":self.address,\"password\":self.password}\n",
    "        print(self.register)                        \n",
    "        print(\"congratulation your account is created succesfully\")\n",
    "    def login(self):\n",
    "        while True:\n",
    "            user_id = input(\"enter your user id\")\n",
    "            password = input(\"enter your password\")\n",
    "            if user_id == self.username:\n",
    "               if password == self.password:\n",
    "                  print(\"congratulation you have sucessfully login\")\n",
    "                  break\n",
    "               else:\n",
    "                    print(\"incorrect details\")\n",
    "            else:\n",
    "                 print(\"incorrect details\")\n",
    "    def place_food_item(self):\n",
    "        list_of_fooditems = {1:\"Tandoori chicken(4 pieces)(INR 240)\",2:\"Vegan burger(1 piece)(INR 320)\",3:\"Truffle Cake(500 gm)(INR 900)\"}\n",
    "        print(\"Menu list\")\n",
    "        user_input = int(input(\"select food item you need to place\"))\n",
    "        if user_input == 1:\n",
    "            self.ordered_item.append()\n",
    "        if user_input == 2:\n",
    "            self.ordered_item.append()\n",
    "        if user_input == 3:\n",
    "            self.ordered_item.append()\n",
    "        else:\n",
    "             print(\"choose from the menu\")\n",
    "    def order_history(self):\n",
    "        for i in ordered_item:\n",
    "            print(i)\n",
    "        \n",
    "                                \n",
    "        \n",
    "        \n",
    "        \n",
    "         \n",
    "        "
   ]
  },
  {
   "cell_type": "code",
   "execution_count": null,
   "id": "afe9e0e3",
   "metadata": {},
   "outputs": [],
   "source": []
  },
  {
   "cell_type": "code",
   "execution_count": null,
   "id": "6eafdee0",
   "metadata": {},
   "outputs": [],
   "source": []
  },
  {
   "cell_type": "code",
   "execution_count": null,
   "id": "ca83dcd9",
   "metadata": {},
   "outputs": [],
   "source": []
  },
  {
   "cell_type": "code",
   "execution_count": null,
   "id": "aa830f25",
   "metadata": {},
   "outputs": [],
   "source": []
  }
 ],
 "metadata": {
  "kernelspec": {
   "display_name": "Python 3",
   "language": "python",
   "name": "python3"
  },
  "language_info": {
   "codemirror_mode": {
    "name": "ipython",
    "version": 3
   },
   "file_extension": ".py",
   "mimetype": "text/x-python",
   "name": "python",
   "nbconvert_exporter": "python",
   "pygments_lexer": "ipython3",
   "version": "3.8.8"
  }
 },
 "nbformat": 4,
 "nbformat_minor": 5
}
